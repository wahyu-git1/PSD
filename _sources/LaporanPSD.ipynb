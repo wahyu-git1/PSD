####<center><h1><b>Implementasi K-Means dalam Pengelompokan Penyebaran Kemiskinan di Indonesia untuk Pengendalian dan Pemulihan Ekonomi di Daerah</b></h1></center>

<br>
 <center><h2><b>Pendahuluan </b></h2></center>
 <br>
 <h3> 1. Latar Belakang </h3>

 <p> Kemiskinan merupakan sebagai salah satu tantangan terbesar yang dihadapi oleh negara dalam pembangunan yang inklusif dan berkelanjutan. Pemerintah sudah banyak bekerja keras dan mengusahakan untuk tercapainya kehidupan masyarakat yang layak dengan menggunakan beberapa program seperti bantuan sosial dan program program lainnya.  Tapi masih banyak kendala yang dihadapi seperti distribusi bantuan yang tidak tepat sasaran yang sering kali menjadi kendala yang menjadikan program mengurangi tingkat kemiskinan secara efektif. Salah satu penyebab utamanya adalah kurangnya pemahaman yang mendalam mengenai distribusi kemiskinan di berbagai daerah terutama di kabupaten dan kota di masing masing provinsi di Indonesia.</p>

 <p>Dengan masalah ini, pengelompokan daerah berdasarkan tingkat kemiskinan dapat menjadi alat yang efektif bagi pemerintah khususnya kementerian social, dalam merancang dan menargetkan program program pemulihan ekonomi yang tepat sasaran. Dengan menggunakan Teknik clustering/ pengelompokan data seperti K-Means dapat membantu dalam mengidentifikasi kelompok daerah dengan karakteristik kemiskinan yang serupa, yang memungkinkan pemerintah menganggarkan sumber daya yang lebih efisien dan efektif. </p>
<br>

 <h3> 2. Tujuan </h3>

<p> Penelitian ini bertujuan untuk menerapkan algoritma K-Means dalam mengelompokkan kota-kota di Indonesia berdasarkan penyebaran kemiskinan dari tahun 2016 hingga 2024. Melalui pengelompokan ini, diharapkan Kementerian Sosial dapat:</p>
<p>1.	Mengidentifikasi kluster kluster daerah dengan tingkat kemiskinan yang serupa.</p>
<p>2.	Merancang strategi pengendalian dan pemulihan ekonomi yang lebih tepat sasaran </p>
<p>3.	Mengalokasikan anggaran bantuan social (Bansos) sesuai dengan tingkat kemiskinan yang ada di setiap kluster, sehingga program yang dijalankan lebih efektif dalam menurunkan angka kemiskinan daerah daerah yang ada di Indonesia.</p>

<br>
 <h3> 3. Manfaat  </h3>

<p>Penelitian ini diharapkan dapat memberikan beberapa manfaat yang signifikan, antara lain :</p>
<br>
<p>A. Bagi pemerintah ( Kementerian sosial )</p>
<p>1. Mempercepat pemulihan ekonomi di daerah-daerah dengan tingkat kemiskinan tinggi melalui program yang lebih terarah.</p>
<p>2. Memperoleh alat bantu berbasis data untuk pengambilan keputusan dalam distribusi bantuan sosial yang lebih tepat sasaran</p>
<br>
<p>Bagi Masyarakat </p>
<p>1. Meningkatkan kesejahteraan masyarakat melalui distribusi bantuan sosial dari pemerintah yang lebih merata dan tepat sasaran</p>
<p>2. Meningkatkan pertumbuhan ekonomi yang merata di Indonesia, terutama pada daerah daerah yang paling terdampak oleh kemiskinan.</p>
<p></p> 
